{
 "cells": [
  {
   "cell_type": "code",
   "execution_count": 8,
   "id": "855d8d18",
   "metadata": {},
   "outputs": [
    {
     "name": "stdout",
     "output_type": "stream",
     "text": [
      "Primeras filas del DataFrame:\n",
      "      id_prod      id_fam     clave codigo  \\\n",
      "0  PRD0000001  FAM0000001  ST332196   3219   \n",
      "1  PRD0000002  FAM0000003  SE335289   3528   \n",
      "2  PRD0000003  FAM0000003  SE335272   3527   \n",
      "3  PRD0000004  FAM0000003  SE335142   3514   \n",
      "4  PRD0000005  FAM0000003  SE334480   3448   \n",
      "\n",
      "                                               descr  cant  uni      inner_  \\\n",
      "0  Abrazadera U 5/16X2 X4 11/16 con placa y 2 tue...    17  NaN           0   \n",
      "1                       Codo de PVC pesado 100mm(4\")    69  NaN           0   \n",
      "2                        Codo de PVC pesado 75mm(3\")    82  NaN           0   \n",
      "3                   Conector de PVC pesado 100mm(4\")    83  NaN           0   \n",
      "4         Tubo de PVC ligero 25mm(1\") largo 3 metros   321  NaN  1 = 10 pzs   \n",
      "\n",
      "      master_ pag_catl  precio_list  precio_promo       tipo fecha_llega  act  \\\n",
      "0           0       74       1990.0        1990.0  Ferretero      Checar  NaN   \n",
      "1           0      132        312.9         312.9  Electrico      Checar  NaN   \n",
      "2           0      132        191.4         191.4  Electrico      Checar  NaN   \n",
      "3           0      132        159.6         159.6  Electrico      Checar  NaN   \n",
      "4  1 = 10 pzs      132        637.0         637.0  Electrico      Checar  NaN   \n",
      "\n",
      "              registro       condiciones  img est  \n",
      "0  2023-02-08 16:07:08         25 piezas  NaN   A  \n",
      "1  2023-02-08 16:09:38   Minimo 1 piezas  NaN   A  \n",
      "2  2023-02-08 16:09:38   Minimo 1 piezas  NaN   A  \n",
      "3  2023-02-08 16:09:38  Minimo 12 piezas  NaN   A  \n",
      "4  2023-02-08 16:09:38  1 atado = 10 pzs  NaN   A  \n",
      "\n",
      "Información general del DataFrame:\n",
      "<class 'pandas.core.frame.DataFrame'>\n",
      "RangeIndex: 2135 entries, 0 to 2134\n",
      "Data columns (total 19 columns):\n",
      " #   Column        Non-Null Count  Dtype  \n",
      "---  ------        --------------  -----  \n",
      " 0   id_prod       2135 non-null   object \n",
      " 1   id_fam        2135 non-null   object \n",
      " 2   clave         2135 non-null   object \n",
      " 3   codigo        2135 non-null   object \n",
      " 4   descr         2135 non-null   object \n",
      " 5   cant          2135 non-null   int64  \n",
      " 6   uni           0 non-null      float64\n",
      " 7   inner_        2135 non-null   object \n",
      " 8   master_       2129 non-null   object \n",
      " 9   pag_catl      2135 non-null   object \n",
      " 10  precio_list   2135 non-null   float64\n",
      " 11  precio_promo  2135 non-null   float64\n",
      " 12  tipo          2135 non-null   object \n",
      " 13  fecha_llega   2135 non-null   object \n",
      " 14  act           0 non-null      float64\n",
      " 15  registro      2135 non-null   object \n",
      " 16  condiciones   609 non-null    object \n",
      " 17  img           0 non-null      float64\n",
      " 18  est           2135 non-null   object \n",
      "dtypes: float64(5), int64(1), object(13)\n",
      "memory usage: 317.0+ KB\n",
      "None\n",
      "\n",
      "Contenido de la columna 'descr':\n",
      "0       Abrazadera U 5/16X2 X4 11/16 con placa y 2 tue...\n",
      "1                            Codo de PVC pesado 100mm(4\")\n",
      "2                             Codo de PVC pesado 75mm(3\")\n",
      "3                        Conector de PVC pesado 100mm(4\")\n",
      "4              Tubo de PVC ligero 25mm(1\") largo 3 metros\n",
      "                              ...                        \n",
      "2130                                      Se sugiere 6595\n",
      "2131                                      Se sugiere 6595\n",
      "2132              Cable coaxial RG59 a presiónlargo 1.8 m\n",
      "2133                                      Se sugiere 7983\n",
      "2134                               Supresor 490jl 1USB 1C\n",
      "Name: descr, Length: 2135, dtype: object\n",
      "0     Abrazadera U 5/16X2 X4 11/16 con placa y 2 tue...\n",
      "1                          Codo de PVC pesado 100mm(4\")\n",
      "2                           Codo de PVC pesado 75mm(3\")\n",
      "3                      Conector de PVC pesado 100mm(4\")\n",
      "4            Tubo de PVC ligero 25mm(1\") largo 3 metros\n",
      "5        Tubo de PVC ligero 32mm(1 1/4\") largo 3 metros\n",
      "6        Tubo de PVC ligero 38mm(1 1/2\") largo 3 metros\n",
      "7            Tubo de PVC ligero 51mm(2\") largo 3 metros\n",
      "8            Tubo de PVC pesado 25mm(1\") largo 3 metros\n",
      "9        Tubo de PVC pesado 32mm(1 1/4\") largo 3 metros\n",
      "10       Tubo de PVC pesado 38mm(1 1/2\") largo 3 metros\n",
      "11           Tubo de PVC pesado 51mm(2\") largo 3 metros\n",
      "12         Tubo de PVC ligero 13mm(1/2\") largo 3 metros\n",
      "13         Tubo de PVC ligero 19mm(3/4\") largo 3 metros\n",
      "14         Tubo de PVC pesado 13mm(1/2\") largo 3 metros\n",
      "15         Tubo de PVC pesado 19mm(3/4\") largo 3 metros\n",
      "16       Tubo de PVC pesado 63mm(2 1/2\") largo 3 metros\n",
      "17           Tubo de PVC pesado 76mm(3\") largo 3 metros\n",
      "18                    Conector de PVC ligero 13mm(1/2\")\n",
      "19                    Conector de PVC pesado 13mm(1/2\")\n",
      "20                      Codo de PVC ligero 32mm(1 1/4\")\n",
      "21                  Conector de PVC pesado 63mm(2 1/2\")\n",
      "22                      Codo de PVC pesado 32mm(1 1/4\")\n",
      "23                      Codo de PVC pesado 38mm(1 1/2\")\n",
      "24                     Codo de PVC ligero 38mm (1 1/2\")\n",
      "25                      Conector de PVC pesado 76mm(3\")\n",
      "26                          Codo de PVC pesado 25mm(1\")\n",
      "27                      Codo de PVC pesado 60mm(2 1/2\")\n",
      "28                         Codo de PVC ligero 25mm (1\")\n",
      "29                      Conector de PVC ligero 51mm(2\")\n",
      "Name: descr, dtype: object\n"
     ]
    }
   ],
   "source": [
    "import pandas as pd\n",
    "\n",
    "\n",
    "try:\n",
    "    data = pd.read_csv('./productos.csv', delimiter=';',encoding='latin-1')\n",
    "except pd.errors.ParserError:\n",
    "    # Si ocurre un error, intenta leer el archivo con otro delimitador o aplica otras soluciones\n",
    "    data = pd.read_csv('./productos.csv', delimiter=',',encoding='latin-1')\n",
    "\n",
    "# Mostrar las primeras filas de la tabla de datos\n",
    "print(\"Primeras filas del DataFrame:\")\n",
    "print(data.head())\n",
    "\n",
    "# Mostrar información general sobre el DataFrame\n",
    "print(\"\\nInformación general del DataFrame:\")\n",
    "print(data.info())\n",
    "\n",
    "# Acceder a una columna específica\n",
    "columna = data['descr']\n",
    "print(\"\\nContenido de la columna 'descr':\")\n",
    "print(columna)\n",
    "\n",
    "print(columna.head(30))\n",
    "\n",
    "\n"
   ]
  },
  {
   "cell_type": "code",
   "execution_count": 10,
   "id": "1610ad51",
   "metadata": {},
   "outputs": [
    {
     "data": {
      "text/plain": [
       "0       False\n",
       "1        True\n",
       "2        True\n",
       "3       False\n",
       "4       False\n",
       "        ...  \n",
       "2130    False\n",
       "2131    False\n",
       "2132    False\n",
       "2133    False\n",
       "2134    False\n",
       "Name: descr, Length: 2135, dtype: bool"
      ]
     },
     "execution_count": 10,
     "metadata": {},
     "output_type": "execute_result"
    }
   ],
   "source": [
    "columna = data['descr']\n",
    "\n",
    "palabra='codo'\n",
    "columna.str.contains(palabra, case=False)"
   ]
  },
  {
   "cell_type": "code",
   "execution_count": 30,
   "id": "224dafc1",
   "metadata": {},
   "outputs": [
    {
     "name": "stdout",
     "output_type": "stream",
     "text": [
      "Series([], Name: descr, dtype: object)\n"
     ]
    }
   ],
   "source": [
    "\n",
    "palabra = ''  # Palabra a buscar\n",
    "columna_validada = data['descr'].str.lower().str.contains(palabra.lower())\n",
    "\n",
    "# Obtener los valores de la columna que cumplen la condición\n",
    "valores_cumplen = data.loc[columna_validada, 'descr']\n",
    "\n",
    "# Imprimir los valores\n",
    "print(valores_cumplen.head(100))\n"
   ]
  },
  {
   "cell_type": "code",
   "execution_count": null,
   "id": "563d901e",
   "metadata": {},
   "outputs": [],
   "source": []
  }
 ],
 "metadata": {
  "kernelspec": {
   "display_name": "Python 3 (ipykernel)",
   "language": "python",
   "name": "python3"
  },
  "language_info": {
   "codemirror_mode": {
    "name": "ipython",
    "version": 3
   },
   "file_extension": ".py",
   "mimetype": "text/x-python",
   "name": "python",
   "nbconvert_exporter": "python",
   "pygments_lexer": "ipython3",
   "version": "3.9.13"
  }
 },
 "nbformat": 4,
 "nbformat_minor": 5
}
